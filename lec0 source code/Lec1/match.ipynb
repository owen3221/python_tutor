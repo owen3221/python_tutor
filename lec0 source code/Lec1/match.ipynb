{
 "cells": [
  {
   "cell_type": "markdown",
   "id": "d7d122ae",
   "metadata": {},
   "source": [
    "# Python Conditional:`match` (Pattern Matching)\n",
    "### 1.What is match?\n",
    "\n",
    "* `match` was introduced in Python 3.10.\n",
    "\n",
    "* It works like a switch-case in other languages.\n",
    "\n",
    "* It allows you to check a variable against many possible values.\n",
    "\n",
    "### 2.Basic Syntax\n",
    "```python\n",
    "match variable:\n",
    "    case value1:\n",
    "        # code to run\n",
    "    case value2:\n",
    "        # code to run\n",
    "    case _:\n",
    "        # default case (like else)\n",
    "```\n"
   ]
  },
  {
   "cell_type": "markdown",
   "id": "f4477235",
   "metadata": {},
   "source": [
    "### example:Days of the Week\n"
   ]
  },
  {
   "cell_type": "code",
   "execution_count": null,
   "id": "c1e2a5e8",
   "metadata": {},
   "outputs": [],
   "source": [
    "day = 3\n",
    "\n",
    "match day:\n",
    "    case 1:\n",
    "        print(\"Monday\")\n",
    "    case 2:\n",
    "        print(\"Tuesday\")\n",
    "    case 3:\n",
    "        print(\"Wednesday\")\n",
    "    case 4:\n",
    "        print(\"Thursday\")\n",
    "    case 5:\n",
    "        print(\"Friday\")\n",
    "    case _:\n",
    "        print(\"Weekend\")"
   ]
  },
  {
   "cell_type": "markdown",
   "id": "78050719",
   "metadata": {},
   "source": [
    "### 4. Using `_` as “default”\n",
    "\n",
    "`_` means any other value (like `else`)."
   ]
  },
  {
   "cell_type": "code",
   "execution_count": 1,
   "id": "11a78c12",
   "metadata": {},
   "outputs": [
    {
     "name": "stdout",
     "output_type": "stream",
     "text": [
      "Unknown color\n"
     ]
    }
   ],
   "source": [
    "color = \"yellow\"\n",
    "\n",
    "match color:\n",
    "    case \"red\":\n",
    "        print(\"Red\")\n",
    "    case \"blue\":\n",
    "        print(\"Blue\")\n",
    "    case \"green\":\n",
    "        print(\"Green\")\n",
    "    case _:\n",
    "        print(\"Unknown color\")\n",
    "        "
   ]
  },
  {
   "cell_type": "markdown",
   "id": "0bb4d4fb",
   "metadata": {},
   "source": [
    "### exercise"
   ]
  },
  {
   "cell_type": "code",
   "execution_count": null,
   "id": "ebaa5c53",
   "metadata": {},
   "outputs": [],
   "source": [
    "def animal_sound(animal):\n",
    "    # TODO: Use match-case\n",
    "    # \"dog\" → \"Woof\"\n",
    "    # \"cat\" → \"Meow\"\n",
    "    # \"cow\" → \"Moo\"\n",
    "    # anything else → \"Unknown sound\"\n",
    "    pass"
   ]
  }
 ],
 "metadata": {
  "kernelspec": {
   "display_name": "pycourse",
   "language": "python",
   "name": "python3"
  },
  "language_info": {
   "codemirror_mode": {
    "name": "ipython",
    "version": 3
   },
   "file_extension": ".py",
   "mimetype": "text/x-python",
   "name": "python",
   "nbconvert_exporter": "python",
   "pygments_lexer": "ipython3",
   "version": "3.10.18"
  }
 },
 "nbformat": 4,
 "nbformat_minor": 5
}
