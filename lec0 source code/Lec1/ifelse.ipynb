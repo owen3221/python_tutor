{
 "cells": [
  {
   "cell_type": "markdown",
   "id": "594e5078",
   "metadata": {},
   "source": [
    "# Python Conditional Statements: `if / elif / else`"
   ]
  },
  {
   "cell_type": "markdown",
   "id": "e2747ff1",
   "metadata": {},
   "source": [
    "### 1.`if`\n",
    "\n",
    "* `if` checks a condition.\n",
    "\n",
    "* If the condition is True, the code inside will run."
   ]
  },
  {
   "cell_type": "code",
   "execution_count": null,
   "id": "baa0655d",
   "metadata": {},
   "outputs": [],
   "source": [
    "x = 10\n",
    "if x > 5:\n",
    "    print(\"x is greater than 5\")   # This will run"
   ]
  },
  {
   "cell_type": "markdown",
   "id": "cbfb9a1a",
   "metadata": {},
   "source": [
    "### 2. `else`\n",
    "\n",
    "* else runs when the if condition is False."
   ]
  },
  {
   "cell_type": "code",
   "execution_count": 1,
   "id": "f25723a0",
   "metadata": {},
   "outputs": [
    {
     "name": "stdout",
     "output_type": "stream",
     "text": [
      "x is not greater than 5\n"
     ]
    }
   ],
   "source": [
    "x = 3\n",
    "if x > 5:\n",
    "    print(\"x is greater than 5\")\n",
    "else:\n",
    "    print(\"x is not greater than 5\")   # This will run"
   ]
  },
  {
   "cell_type": "markdown",
   "id": "172de777",
   "metadata": {},
   "source": [
    "### 3.`elif` (else if)\n",
    "\n",
    "* `elif` checks another condition if the first if is False.\n",
    "\n",
    "* You can use multiple elif statements."
   ]
  },
  {
   "cell_type": "code",
   "execution_count": 2,
   "id": "5bd5a218",
   "metadata": {},
   "outputs": [
    {
     "name": "stdout",
     "output_type": "stream",
     "text": [
      "Grade B\n"
     ]
    }
   ],
   "source": [
    "score = 85\n",
    "\n",
    "if score >= 90:\n",
    "    print(\"Grade A\")\n",
    "elif score >= 80:\n",
    "    print(\"Grade B\")\n",
    "elif score >= 70:\n",
    "    print(\"Grade C\")\n",
    "else:\n",
    "    print(\"Grade D\")"
   ]
  },
  {
   "cell_type": "markdown",
   "id": "ecd3b50a",
   "metadata": {},
   "source": [
    "### Example: Even or Odd"
   ]
  },
  {
   "cell_type": "code",
   "execution_count": 3,
   "id": "e084b272",
   "metadata": {},
   "outputs": [
    {
     "name": "stdout",
     "output_type": "stream",
     "text": [
      "Odd number\n"
     ]
    }
   ],
   "source": [
    "num = 7\n",
    "\n",
    "if num % 2 == 0:\n",
    "    print(\"Even number\")\n",
    "else:\n",
    "    print(\"Odd number\")"
   ]
  },
  {
   "cell_type": "markdown",
   "id": "c230b2d9",
   "metadata": {},
   "source": [
    "### 4.`and`\n",
    "\n",
    "* `and` means both conditions must be True for the result to be True.\n",
    "\n",
    "* If either one is False, the whole result is False."
   ]
  },
  {
   "cell_type": "code",
   "execution_count": 1,
   "id": "48a8d130",
   "metadata": {},
   "outputs": [
    {
     "name": "stdout",
     "output_type": "stream",
     "text": [
      "x is between 5 and 20\n"
     ]
    }
   ],
   "source": [
    "x = 10\n",
    "if x > 5 and x < 20:\n",
    "    print(\"x is between 5 and 20\")   # This will run"
   ]
  },
  {
   "cell_type": "markdown",
   "id": "ef067789",
   "metadata": {},
   "source": [
    "### `or`\n",
    "\n",
    "* `or` means at least one condition must be True.\n",
    "\n",
    "* Only if both are False, the result is False."
   ]
  },
  {
   "cell_type": "code",
   "execution_count": 2,
   "id": "79e1a844",
   "metadata": {},
   "outputs": [
    {
     "name": "stdout",
     "output_type": "stream",
     "text": [
      "x is within range\n"
     ]
    }
   ],
   "source": [
    "x = 3\n",
    "if x < 0 or x > 10:\n",
    "    print(\"x is out of range\")\n",
    "else:\n",
    "    print(\"x is within range\")   # This will run"
   ]
  },
  {
   "cell_type": "markdown",
   "id": "b09d2690",
   "metadata": {},
   "source": [
    "### 6.Combined Example"
   ]
  },
  {
   "cell_type": "code",
   "execution_count": 3,
   "id": "951e41a2",
   "metadata": {},
   "outputs": [
    {
     "name": "stdout",
     "output_type": "stream",
     "text": [
      "Minor or Senior\n"
     ]
    }
   ],
   "source": [
    "age = 15\n",
    "\n",
    "if age >= 18 and age < 65:\n",
    "    print(\"Adult\")\n",
    "elif age < 18 or age >= 65:\n",
    "    print(\"Minor or Senior\")\n",
    "    "
   ]
  },
  {
   "cell_type": "markdown",
   "id": "3a7c5800",
   "metadata": {},
   "source": [
    "### exercise"
   ]
  },
  {
   "cell_type": "markdown",
   "id": "ecdfcf33",
   "metadata": {},
   "source": [
    "def voting_age(age):\n",
    "    # TODO: Use if/else\n",
    "    # If age >= 18 → return \"Eligible to vote\"\n",
    "    # Else → return \"Not eligible\"\n",
    "    pass"
   ]
  }
 ],
 "metadata": {
  "kernelspec": {
   "display_name": "pycourse",
   "language": "python",
   "name": "python3"
  },
  "language_info": {
   "codemirror_mode": {
    "name": "ipython",
    "version": 3
   },
   "file_extension": ".py",
   "mimetype": "text/x-python",
   "name": "python",
   "nbconvert_exporter": "python",
   "pygments_lexer": "ipython3",
   "version": "3.10.18"
  }
 },
 "nbformat": 4,
 "nbformat_minor": 5
}
