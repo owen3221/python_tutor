{
 "cells": [
  {
   "cell_type": "markdown",
   "id": "d8ffeceb",
   "metadata": {},
   "source": [
    "# Operators\n",
    "### 1. Arithmetic Operators\n"
   ]
  },
  {
   "cell_type": "markdown",
   "id": "308b839d",
   "metadata": {},
   "source": [
    "| Operator | Meaning | Example | Result |\n",
    "|----------|---------|---------|--------|\n",
    "| `+` | Addition | `5 + 3` | `8` |\n",
    "| `-` | Subtraction | `10 - 4` | `6` |\n",
    "| `*` | Multiplication | `7 * 2` | `14` |\n",
    "| `/` | Division (float) | `8 / 2` | `4.0` |\n",
    "| `//` | Floor Division | `7 // 2` | `3` |\n",
    "| `%` | Modulus (remainder) | `7 % 2` | `1` |\n",
    "| `**` | Exponentiation | `2 ** 3` | `8` |"
   ]
  },
  {
   "cell_type": "code",
   "execution_count": null,
   "id": "6614a1c8",
   "metadata": {},
   "outputs": [
    {
     "name": "stdout",
     "output_type": "stream",
     "text": [
      "13\n",
      "7\n",
      "30\n",
      "3.3333333333333335\n",
      "3\n",
      "1\n",
      "1000\n"
     ]
    }
   ],
   "source": [
    "a = 10\n",
    "b = 3\n",
    "\n",
    "print(a + b)   \n",
    "print(a - b)   \n",
    "print(a * b)   \n",
    "print(a / b)   \n",
    "print(a // b)  \n",
    "print(a % b)   \n",
    "print(a ** b)  "
   ]
  },
  {
   "cell_type": "markdown",
   "id": "8fe74ed1",
   "metadata": {},
   "source": [
    "### 2.Comparison Operators\n",
    "| Operator | Meaning | Example | Result |\n",
    "|----------|---------|---------|--------|\n",
    "| `==` | Equal to | `5 == 5` | `True` |\n",
    "| `!=` | Not equal to | `5 != 3` | `True` |\n",
    "| `>` | Greater than | `7 > 4` | `True` |\n",
    "| `<` | Less than | `3 < 5` | `True` |\n",
    "| `>=` | Greater or equal | `7 >= 7` | `True` |\n",
    "| `<=` | Less or equal | `5 <= 8` | `True` |"
   ]
  },
  {
   "cell_type": "code",
   "execution_count": 7,
   "id": "6ca89424",
   "metadata": {},
   "outputs": [
    {
     "name": "stdout",
     "output_type": "stream",
     "text": [
      "a == b -> False\n",
      "a != b -> True\n",
      "a > b -> False\n",
      "a < b -> True\n",
      "a >= b -> False\n",
      "a <= b -> True\n"
     ]
    }
   ],
   "source": [
    "a = 5\n",
    "b = 7\n",
    "print(f\"a == b -> {a == b}\")\n",
    "print(f\"a != b -> {a != b}\")\n",
    "print(f\"a > b -> {a > b}\")\n",
    "print(f\"a < b -> {a < b}\")\n",
    "print(f\"a >= b -> {a >= b}\")\n",
    "print(f\"a <= b -> {a <= b}\")\n"
   ]
  },
  {
   "cell_type": "markdown",
   "id": "bb84053e",
   "metadata": {},
   "source": [
    "### 3.Logical Operators\n",
    "| Operator | Meaning | Example | Result |\n",
    "|----------|---------|---------|--------|\n",
    "| `and` | Both true | `True and False` | `False` |\n",
    "| `or` | Either true | `True or False` | `True` |\n",
    "| `not` | Negation | `not True` | `False` |"
   ]
  },
  {
   "cell_type": "code",
   "execution_count": 11,
   "id": "f35337c6",
   "metadata": {},
   "outputs": [
    {
     "name": "stdout",
     "output_type": "stream",
     "text": [
      "a and b -> False\n",
      "a or b -> True\n",
      "not b -> True\n"
     ]
    }
   ],
   "source": [
    "a = True\n",
    "b = False\n",
    "print(f\"a and b -> {a and b}\")\n",
    "print(f\"a or b -> {a or b}\")\n",
    "print(f\"not b -> {not b}\")"
   ]
  },
  {
   "cell_type": "markdown",
   "id": "8474b519",
   "metadata": {},
   "source": [
    "### 4. Assignment Operators\n",
    "| Operator | Meaning | Example | Equivalent to |\n",
    "|----------|---------|---------|----------------|\n",
    "| `=` | Assign | `x = 5` | — |\n",
    "| `+=` | Add and assign | `x += 3` | `x = x + 3` |\n",
    "| `-=` | Subtract and assign | `x -= 2` | `x = x - 2` |\n",
    "| `*=` | Multiply and assign | `x *= 4` | `x = x * 4` |\n",
    "| `/=` | Divide and assign | `x /= 2` | `x = x / 2` |\n",
    "| `//=` | Floor divide and assign | `x //= 2` | `x = x // 2` |\n",
    "| `%=` | Modulus and assign | `x %= 3` | `x = x % 3` |\n",
    "| `**=` | Exponentiate and assign | `x **= 2` | `x = x ** 2` |"
   ]
  },
  {
   "cell_type": "code",
   "execution_count": 13,
   "id": "98f76d5a",
   "metadata": {},
   "outputs": [
    {
     "name": "stdout",
     "output_type": "stream",
     "text": [
      "x = 5  -> 5\n",
      "x += 3 -> 8\n",
      "x -= 2 -> 6\n",
      "x *= 4 -> 24\n",
      "x /= 2 -> 12.0\n",
      "x //= 3 -> 4.0\n",
      "x %= 2 -> 0.0\n",
      "x **= 3 -> 8\n"
     ]
    }
   ],
   "source": [
    "x = 5\n",
    "print(f\"x = 5  -> {x}\")\n",
    "\n",
    "x += 3   \n",
    "print(f\"x += 3 -> {x}\")\n",
    "\n",
    "x -= 2   \n",
    "print(f\"x -= 2 -> {x}\")\n",
    "\n",
    "x *= 4  \n",
    "print(f\"x *= 4 -> {x}\")\n",
    "\n",
    "x /= 2  \n",
    "print(f\"x /= 2 -> {x}\")\n",
    "\n",
    "x //= 3 \n",
    "print(f\"x //= 3 -> {x}\")\n",
    "\n",
    "x %= 2   \n",
    "print(f\"x %= 2 -> {x}\")\n",
    "\n",
    "x = 2\n",
    "x **= 3  \n",
    "print(f\"x **= 3 -> {x}\")"
   ]
  },
  {
   "cell_type": "markdown",
   "id": "97848434",
   "metadata": {},
   "source": [
    "### 5. Membership Operators\n",
    "| Operator | Meaning | Example | Result |\n",
    "|----------|---------|---------|--------|\n",
    "| `in` | Value exists | `\"a\" in \"cat\"` | `True` |\n",
    "| `not in` | Value does not exist | `\"z\" not in \"cat\"` | `True` |"
   ]
  },
  {
   "cell_type": "code",
   "execution_count": 14,
   "id": "6ad88bec",
   "metadata": {},
   "outputs": [
    {
     "name": "stdout",
     "output_type": "stream",
     "text": [
      "'apple' in fruits  -> True\n",
      "'orange' in fruits -> False\n",
      "'a' in word        -> False\n",
      "'z' not in word    -> True\n"
     ]
    }
   ],
   "source": [
    "fruits = [\"apple\", \"banana\", \"cherry\"]\n",
    "word = \"hello\"\n",
    "\n",
    "print(f\"'apple' in fruits  -> {'apple' in fruits}\")\n",
    "print(f\"'orange' in fruits -> {'orange' in fruits}\")\n",
    "print(f\"'a' in word        -> {'a' in word}\")\n",
    "print(f\"'z' not in word    -> {'z' not in word}\")"
   ]
  },
  {
   "cell_type": "markdown",
   "id": "51f2607a",
   "metadata": {},
   "source": [
    "### 6. Identity Operators\n",
    "| Operator | Meaning | Example | Result |\n",
    "|----------|---------|---------|--------|\n",
    "| `is` | Same object | `x is y` | `True/False` |\n",
    "| `is not` | Different objects | `x is not y` | `True/False` |\n"
   ]
  },
  {
   "cell_type": "code",
   "execution_count": null,
   "id": "c4919d98",
   "metadata": {},
   "outputs": [
    {
     "name": "stdout",
     "output_type": "stream",
     "text": [
      "a == b      -> True\n",
      "a is b      -> True\n",
      "a == c      -> True\n",
      "a is c      -> False\n",
      "a is not c  -> True\n"
     ]
    }
   ],
   "source": [
    "a = [1, 2, 3]\n",
    "b = a          \n",
    "c = [1, 2, 3]  \n",
    "\n",
    "print(f\"a == b      -> {a == b}\")       \n",
    "print(f\"a is b      -> {a is b}\")       \n",
    "print(f\"a == c      -> {a == c}\")       \n",
    "print(f\"a is c      -> {a is c}\")       \n",
    "print(f\"a is not c  -> {a is not c}\")   "
   ]
  }
 ],
 "metadata": {
  "kernelspec": {
   "display_name": "pycourse",
   "language": "python",
   "name": "python3"
  },
  "language_info": {
   "codemirror_mode": {
    "name": "ipython",
    "version": 3
   },
   "file_extension": ".py",
   "mimetype": "text/x-python",
   "name": "python",
   "nbconvert_exporter": "python",
   "pygments_lexer": "ipython3",
   "version": "3.10.18"
  }
 },
 "nbformat": 4,
 "nbformat_minor": 5
}
