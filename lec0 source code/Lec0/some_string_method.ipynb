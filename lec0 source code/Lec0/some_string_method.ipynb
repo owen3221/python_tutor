{
 "cells": [
  {
   "cell_type": "markdown",
   "id": "906222d0",
   "metadata": {},
   "source": [
    "## string method"
   ]
  },
  {
   "cell_type": "markdown",
   "id": "63ba1fa1",
   "metadata": {},
   "source": [
    "### `strip()` – Remove whitespace from both ends"
   ]
  },
  {
   "cell_type": "code",
   "execution_count": 9,
   "id": "670fe612",
   "metadata": {},
   "outputs": [
    {
     "name": "stdout",
     "output_type": "stream",
     "text": [
      "   hello   \n",
      "hello\n"
     ]
    }
   ],
   "source": [
    "s = \"   hello   \"\n",
    "print(s)\n",
    "print(s.strip())   # \"hello\""
   ]
  },
  {
   "cell_type": "markdown",
   "id": "d6fa7fa0",
   "metadata": {},
   "source": [
    "### `title()` – Capitalize the first letter of each word"
   ]
  },
  {
   "cell_type": "code",
   "execution_count": 10,
   "id": "e2464631",
   "metadata": {},
   "outputs": [
    {
     "name": "stdout",
     "output_type": "stream",
     "text": [
      "john smith\n",
      "John Smith\n"
     ]
    }
   ],
   "source": [
    "s = \"john smith\"\n",
    "print(s) \n",
    "print(s.title())   # \"John Smith\""
   ]
  },
  {
   "cell_type": "markdown",
   "id": "2ab9903e",
   "metadata": {},
   "source": [
    "### `lower()` – Convert to lowercase"
   ]
  },
  {
   "cell_type": "code",
   "execution_count": 11,
   "id": "99d48a8b",
   "metadata": {},
   "outputs": [
    {
     "name": "stdout",
     "output_type": "stream",
     "text": [
      "HELLO\n",
      "hello\n"
     ]
    }
   ],
   "source": [
    "s = \"HELLO\"\n",
    "print(s)\n",
    "print(s.lower())   # \"hello\""
   ]
  },
  {
   "cell_type": "markdown",
   "id": "2d889ba4",
   "metadata": {},
   "source": [
    "### `upper()` – Convert to uppercase"
   ]
  },
  {
   "cell_type": "code",
   "execution_count": 12,
   "id": "7d3fe8f2",
   "metadata": {},
   "outputs": [
    {
     "name": "stdout",
     "output_type": "stream",
     "text": [
      "hello\n",
      "HELLO\n"
     ]
    }
   ],
   "source": [
    "s = \"hello\"\n",
    "print(s)\n",
    "print(s.upper())   # \"HELLO\""
   ]
  },
  {
   "cell_type": "markdown",
   "id": "f93dd65a",
   "metadata": {},
   "source": [
    "### `replace(old, new)` – Replace part of a string"
   ]
  },
  {
   "cell_type": "code",
   "execution_count": 13,
   "id": "e7fa9f3c",
   "metadata": {},
   "outputs": [
    {
     "name": "stdout",
     "output_type": "stream",
     "text": [
      "I like cats\n",
      "I like dogs\n"
     ]
    }
   ],
   "source": [
    "s = \"I like cats\"\n",
    "print(s)\n",
    "print(s.replace(\"cats\", \"dogs\"))   # \"I like dogs\""
   ]
  },
  {
   "cell_type": "markdown",
   "id": "9ca0c970",
   "metadata": {},
   "source": [
    "### `find(substring)` – Find substring index"
   ]
  },
  {
   "cell_type": "code",
   "execution_count": 14,
   "id": "92aa00a6",
   "metadata": {},
   "outputs": [
    {
     "name": "stdout",
     "output_type": "stream",
     "text": [
      "6\n",
      "-1\n"
     ]
    }
   ],
   "source": [
    "s = \"hello world\"\n",
    "print(s.find(\"world\"))   # 6\n",
    "print(s.find(\"Python\"))  # -1 (not found)"
   ]
  },
  {
   "cell_type": "markdown",
   "id": "ad0c243c",
   "metadata": {},
   "source": [
    "### Exercise\n",
    "1. Ask the user for their name. Convert the name to lowercase before printing.\n",
    "2. Transform the string `\"python is FUN\"` into `\"Python Is Fun\"`.\n",
    "3. Change `\"I love Java\"` into `\"I love Python\"`.\n"
   ]
  },
  {
   "cell_type": "code",
   "execution_count": null,
   "id": "e6a02f78",
   "metadata": {},
   "outputs": [
    {
     "name": "stdout",
     "output_type": "stream",
     "text": [
      "hello owen\n"
     ]
    }
   ],
   "source": [
    "#1\n",
    "name = input(\"What is your name\")\n",
    "'''\n",
    "TODO\n",
    "\n",
    "print()\n",
    "'''\n",
    "\n",
    "\n"
   ]
  },
  {
   "cell_type": "code",
   "execution_count": null,
   "id": "21ce60cf",
   "metadata": {},
   "outputs": [],
   "source": [
    "#2\n",
    "text = \"python is FUN\"\n",
    "'''\n",
    "TODO\n",
    "\n",
    "print()\n",
    "'''"
   ]
  },
  {
   "cell_type": "code",
   "execution_count": null,
   "id": "cc4f5083",
   "metadata": {},
   "outputs": [
    {
     "data": {
      "text/plain": [
       "'I love Python'"
      ]
     },
     "execution_count": 17,
     "metadata": {},
     "output_type": "execute_result"
    }
   ],
   "source": [
    "#3\n",
    "lang_text = \"I love Java\"\n",
    "'''\n",
    "TODO\n",
    "\n",
    "lang_text.replace(\"Java\", \"Python\")\n",
    "'''"
   ]
  }
 ],
 "metadata": {
  "kernelspec": {
   "display_name": "pycourse",
   "language": "python",
   "name": "python3"
  },
  "language_info": {
   "codemirror_mode": {
    "name": "ipython",
    "version": 3
   },
   "file_extension": ".py",
   "mimetype": "text/x-python",
   "name": "python",
   "nbconvert_exporter": "python",
   "pygments_lexer": "ipython3",
   "version": "3.10.18"
  }
 },
 "nbformat": 4,
 "nbformat_minor": 5
}
