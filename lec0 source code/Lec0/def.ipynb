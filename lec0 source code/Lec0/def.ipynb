{
 "cells": [
  {
   "cell_type": "markdown",
   "id": "5be7b70f",
   "metadata": {},
   "source": [
    "# function"
   ]
  },
  {
   "cell_type": "markdown",
   "id": "9ba2446f",
   "metadata": {},
   "source": [
    "## Why use functions?\n",
    "\n",
    "- A function lets you group code together so it can be reused.\n",
    "- Python already has many built-in functions (print(), round(), etc.), but you can also define your own with def."
   ]
  },
  {
   "cell_type": "markdown",
   "id": "474bc629",
   "metadata": {},
   "source": [
    "### 1.Function syntax\n",
    "```python\n",
    "def function_name(parameters):\n",
    "    # function body\n",
    "    return value   # (optional)\n",
    "```\n",
    "\n",
    "- `def` → keyword to define a function\n",
    "- `function_name` → the name of your function\n",
    "- `parameters` → input values (optional)\n",
    "- `return` → sends back a value (optional)"
   ]
  },
  {
   "cell_type": "markdown",
   "id": "7a11cf38",
   "metadata": {},
   "source": [
    "### 2.Basic Examples\n",
    "- No parameters, no return"
   ]
  },
  {
   "cell_type": "code",
   "execution_count": 1,
   "id": "7693011f",
   "metadata": {},
   "outputs": [
    {
     "name": "stdout",
     "output_type": "stream",
     "text": [
      "Hello!\n"
     ]
    }
   ],
   "source": [
    "def say_hello():\n",
    "    print(\"Hello!\")\n",
    "\n",
    "say_hello()"
   ]
  },
  {
   "cell_type": "markdown",
   "id": "83dbb3d8",
   "metadata": {},
   "source": [
    "- With parameters"
   ]
  },
  {
   "cell_type": "code",
   "execution_count": 2,
   "id": "8ee8857f",
   "metadata": {},
   "outputs": [
    {
     "name": "stdout",
     "output_type": "stream",
     "text": [
      "Hello, Alice!\n",
      "Hello, Bob!\n"
     ]
    }
   ],
   "source": [
    "def greet(name):\n",
    "    print(f\"Hello, {name}!\")\n",
    "\n",
    "greet(\"Alice\")\n",
    "greet(\"Bob\")"
   ]
  },
  {
   "cell_type": "markdown",
   "id": "b67b6de5",
   "metadata": {},
   "source": [
    "- With return value"
   ]
  },
  {
   "cell_type": "code",
   "execution_count": 14,
   "id": "c9999a86",
   "metadata": {},
   "outputs": [
    {
     "name": "stdout",
     "output_type": "stream",
     "text": [
      "25\n",
      "100\n"
     ]
    }
   ],
   "source": [
    "def square(x):\n",
    "    return x * x\n",
    "\n",
    "print(square(5))   # 25\n",
    "print(square(10))  # 100"
   ]
  },
  {
   "cell_type": "markdown",
   "id": "b5c04cb4",
   "metadata": {},
   "source": [
    "### 3.Scope\n",
    "- Variables created inside a function are local variables, only visible inside that function.\n",
    "\n"
   ]
  },
  {
   "cell_type": "code",
   "execution_count": 15,
   "id": "ebbad88f",
   "metadata": {},
   "outputs": [
    {
     "name": "stdout",
     "output_type": "stream",
     "text": [
      "10\n"
     ]
    }
   ],
   "source": [
    "def foo():\n",
    "    x = 10\n",
    "    print(x)\n",
    "\n",
    "foo()\n",
    "# print(x)  # ❌ NameError: x is not defined"
   ]
  },
  {
   "cell_type": "code",
   "execution_count": 16,
   "id": "6d2ab8c7",
   "metadata": {},
   "outputs": [
    {
     "name": "stdout",
     "output_type": "stream",
     "text": [
      "inside: 5\n",
      "outside: 10\n"
     ]
    }
   ],
   "source": [
    "x = 10\n",
    "\n",
    "def bar():\n",
    "    x = 5  #local variable\n",
    "    print(f\"inside: {x}\")\n",
    "\n",
    "bar()\n",
    "print(f\"outside: {x}\")"
   ]
  },
  {
   "cell_type": "markdown",
   "id": "f4c9d059",
   "metadata": {},
   "source": [
    "- Modifying a global variable inside a function → requires `global`\n",
    "- If you reassign (assignment) inside a function, Python will treat it as a local variable by default.\n",
    "- If you want to modify a global variable, you must use the `global` keyword.\n"
   ]
  },
  {
   "cell_type": "code",
   "execution_count": 17,
   "id": "765b00e7",
   "metadata": {},
   "outputs": [
    {
     "name": "stdout",
     "output_type": "stream",
     "text": [
      "1\n"
     ]
    }
   ],
   "source": [
    "count = 0  # global variable\n",
    "\n",
    "def increment():\n",
    "    global count\n",
    "    count += 1  \n",
    "\n",
    "increment()\n",
    "print(count)  # 1\n"
   ]
  },
  {
   "cell_type": "markdown",
   "id": "40b2b45d",
   "metadata": {},
   "source": [
    "### 4.Initialization\n",
    "- What is initialization?\n",
    "- Initialization means assigning a value to a variable for the first time.\n",
    "- In Python, a variable must be initialized before it can be used, otherwise you’ll get an error."
   ]
  },
  {
   "cell_type": "code",
   "execution_count": 18,
   "id": "119c475c",
   "metadata": {},
   "outputs": [],
   "source": [
    "# Initialize variables\n",
    "count = 0        # integer initialization\n",
    "name = \"Alice\"   # string initialization\n",
    "pi = 3.14159     # float initialization\n",
    "is_ready = True  # boolean initialization"
   ]
  },
  {
   "cell_type": "markdown",
   "id": "f71be167",
   "metadata": {},
   "source": [
    "### 5.Syntax\n",
    "```python\n",
    "def function_name(parameter=default_value):\n",
    "    # function body\n",
    "```"
   ]
  },
  {
   "cell_type": "code",
   "execution_count": 19,
   "id": "e6729ba0",
   "metadata": {},
   "outputs": [
    {
     "name": "stdout",
     "output_type": "stream",
     "text": [
      "Hello, World!\n",
      "Hello, Alice!\n"
     ]
    }
   ],
   "source": [
    "def greet(name=\"World\"):\n",
    "    print(f\"Hello, {name}!\")\n",
    "\n",
    "greet()          # no argument → uses default value\n",
    "greet(\"Alice\")   # argument provided → uses given value"
   ]
  },
  {
   "cell_type": "code",
   "execution_count": 20,
   "id": "bb1dcc02",
   "metadata": {},
   "outputs": [
    {
     "name": "stdout",
     "output_type": "stream",
     "text": [
      "My name is Unknown, I am 0 years old.\n",
      "My name is Bob, I am 0 years old.\n",
      "My name is Alice, I am 20 years old.\n"
     ]
    }
   ],
   "source": [
    "def introduce(name=\"Unknown\", age=0):\n",
    "    print(f\"My name is {name}, I am {age} years old.\")\n",
    "\n",
    "introduce()\n",
    "introduce(\"Bob\")\n",
    "introduce(\"Alice\", 20)"
   ]
  },
  {
   "cell_type": "code",
   "execution_count": 21,
   "id": "4342b069",
   "metadata": {},
   "outputs": [
    {
     "name": "stdout",
     "output_type": "stream",
     "text": [
      "['apple']\n",
      "['apple', 'banana']\n"
     ]
    }
   ],
   "source": [
    "def add_item(item, container=[]):\n",
    "    container.append(item)\n",
    "    return container\n",
    "\n",
    "print(add_item(\"apple\"))   # ['apple']\n",
    "print(add_item(\"banana\"))  # ['apple', 'banana'] ← reuses same list!"
   ]
  },
  {
   "cell_type": "code",
   "execution_count": 23,
   "id": "31673e0e",
   "metadata": {},
   "outputs": [
    {
     "name": "stdout",
     "output_type": "stream",
     "text": [
      "['apple']\n",
      "['banana']\n"
     ]
    }
   ],
   "source": [
    "def add_item(item, container=None):\n",
    "    if container is None:\n",
    "        container = []\n",
    "    container.append(item)\n",
    "    return container\n",
    "print(add_item(\"apple\"))   # ['apple']\n",
    "print(add_item(\"banana\"))"
   ]
  },
  {
   "cell_type": "markdown",
   "id": "f83be514",
   "metadata": {},
   "source": [
    "### exercise"
   ]
  },
  {
   "cell_type": "code",
   "execution_count": null,
   "id": "a07819be",
   "metadata": {},
   "outputs": [],
   "source": [
    "def rectangle_area(length, width):\n",
    "    # TODO: Write a function with parameters length and width\n",
    "    # return the area of the rectangle\n",
    "    pass"
   ]
  }
 ],
 "metadata": {
  "kernelspec": {
   "display_name": "pycourse",
   "language": "python",
   "name": "python3"
  },
  "language_info": {
   "codemirror_mode": {
    "name": "ipython",
    "version": 3
   },
   "file_extension": ".py",
   "mimetype": "text/x-python",
   "name": "python",
   "nbconvert_exporter": "python",
   "pygments_lexer": "ipython3",
   "version": "3.10.18"
  }
 },
 "nbformat": 4,
 "nbformat_minor": 5
}
