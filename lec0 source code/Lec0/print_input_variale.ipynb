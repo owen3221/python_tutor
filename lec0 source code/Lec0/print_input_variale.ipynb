{
 "cells": [
  {
   "cell_type": "markdown",
   "id": "655b90a9",
   "metadata": {},
   "source": [
    "# Lec0\n",
    "## print,input,variale"
   ]
  },
  {
   "cell_type": "code",
   "execution_count": 10,
   "id": "97f2ac43",
   "metadata": {},
   "outputs": [
    {
     "name": "stdout",
     "output_type": "stream",
     "text": [
      "Hello world\n"
     ]
    }
   ],
   "source": [
    "print(\"Hello world\")"
   ]
  },
  {
   "cell_type": "code",
   "execution_count": 14,
   "id": "cf3eb1e4",
   "metadata": {},
   "outputs": [
    {
     "name": "stdout",
     "output_type": "stream",
     "text": [
      "Hello\n",
      "owen\n"
     ]
    }
   ],
   "source": [
    "name = \"owen\"\n",
    "print(\"Hello\")\n",
    "print(name)"
   ]
  },
  {
   "cell_type": "code",
   "execution_count": 11,
   "id": "e5eaf7a3",
   "metadata": {},
   "outputs": [
    {
     "name": "stdout",
     "output_type": "stream",
     "text": [
      "owen\n"
     ]
    }
   ],
   "source": [
    "a = input(\"what is your name\")\n",
    "print(a)"
   ]
  },
  {
   "cell_type": "markdown",
   "id": "62db584a",
   "metadata": {},
   "source": [
    "### Exercise\n",
    "\n",
    "Write a Python program that:\n",
    "Asks the user to type their name.\n",
    "Prints a message that says hello to the user, including their name.\n",
    "Example run:\n",
    "```bash\n",
    "What is your name? Alice\n",
    "Hello, Alice!\n",
    "```"
   ]
  },
  {
   "cell_type": "code",
   "execution_count": 12,
   "id": "56db8bd5",
   "metadata": {},
   "outputs": [
    {
     "name": "stdout",
     "output_type": "stream",
     "text": [
      "Hello, owen!\n"
     ]
    }
   ],
   "source": [
    "#sample solution\n",
    "# Ask the user for their name\n",
    "name = input(\"What is your name? \")\n",
    "\n",
    "# Greet the user with their name\n",
    "print(\"Hello, \" + name + \"!\")"
   ]
  },
  {
   "cell_type": "markdown",
   "id": "c6904b5e",
   "metadata": {},
   "source": [
    "## variable\n",
    "### 1.what is variable\n",
    "- A variable is a name that stores data in a program.\n",
    "- Python does not require you to declare types explicitly — the type is determined by the assigned value.\n",
    "- Use \"=\" to assign values.\n"
   ]
  },
  {
   "cell_type": "code",
   "execution_count": null,
   "id": "1797a73b",
   "metadata": {},
   "outputs": [],
   "source": [
    "x = 10         # x stores an integer\n",
    "y = \"Alice\"    # y stores a string\n",
    "z = 3.14       # z stores a float"
   ]
  },
  {
   "cell_type": "markdown",
   "id": "9a1abcaf",
   "metadata": {},
   "source": [
    "### 2.Naming Rules\n",
    "- Not allowed:\n",
    "    1. Start with a number (2abc ❌)\n",
    "    2. Use reserved words (for, class, def, etc. ❌)"
   ]
  },
  {
   "cell_type": "code",
   "execution_count": 18,
   "id": "59e2390a",
   "metadata": {},
   "outputs": [],
   "source": [
    "# name = \"Alice\"   # OK\n",
    "# _age = 20        # OK\n",
    "# 2cool = \"No\"     # ❌\n",
    "# def = 5          # ❌  "
   ]
  },
  {
   "cell_type": "markdown",
   "id": "9eb1614d",
   "metadata": {},
   "source": [
    "### 3.Common Data Types in Python\n",
    "Type Checking"
   ]
  },
  {
   "cell_type": "code",
   "execution_count": 20,
   "id": "d554bb8d",
   "metadata": {},
   "outputs": [
    {
     "name": "stdout",
     "output_type": "stream",
     "text": [
      "<class 'str'>\n"
     ]
    }
   ],
   "source": [
    "x = \"123\"\n",
    "print(type(x))"
   ]
  },
  {
   "cell_type": "code",
   "execution_count": null,
   "id": "3e7986b3",
   "metadata": {},
   "outputs": [],
   "source": [
    "#integer\n",
    "a = 42\n",
    "print(a, type(a))   # 42 <class 'int'>"
   ]
  },
  {
   "cell_type": "code",
   "execution_count": null,
   "id": "6bde3bcf",
   "metadata": {},
   "outputs": [],
   "source": [
    "#float\n",
    "pi = 3.14159\n",
    "print(pi, type(pi))  # 3.14159 <class 'float'>"
   ]
  },
  {
   "cell_type": "code",
   "execution_count": 19,
   "id": "2696591a",
   "metadata": {},
   "outputs": [
    {
     "name": "stdout",
     "output_type": "stream",
     "text": [
      "True <class 'bool'>\n"
     ]
    }
   ],
   "source": [
    "#boolean\n",
    "is_happy = True\n",
    "is_sad = False\n",
    "print(is_happy, type(is_happy))   # True <class 'bool'>"
   ]
  },
  {
   "cell_type": "code",
   "execution_count": null,
   "id": "f25accc7",
   "metadata": {},
   "outputs": [],
   "source": [
    "#string\n",
    "greeting = \"Hello, World\"\n",
    "print(greeting, type(greeting))   # Hello, World <class 'str'>"
   ]
  },
  {
   "cell_type": "markdown",
   "id": "99230aec",
   "metadata": {},
   "source": [
    "**Conversion**\n",
    "\n",
    "Convert type: int(), float(), str(), bool()"
   ]
  },
  {
   "cell_type": "code",
   "execution_count": 21,
   "id": "0577450f",
   "metadata": {},
   "outputs": [
    {
     "name": "stdout",
     "output_type": "stream",
     "text": [
      "<class 'str'>\n",
      "123 <class 'int'>\n"
     ]
    }
   ],
   "source": [
    "x = \"123\"\n",
    "print(type(x))        # <class 'str'>\n",
    "\n",
    "y = int(x)\n",
    "print(y, type(y))     # 123 <class 'int'>"
   ]
  },
  {
   "cell_type": "markdown",
   "id": "2269a42e",
   "metadata": {},
   "source": [
    "### Exercise\n",
    "Create a variable `height` with a float value and a variable `weight` with an integer value.\n",
    "Then print both their values and their types.\n",
    "\n",
    "Expected Output\n",
    "```bash\n",
    "Height: 5.9 <class 'float'>\n",
    "Weight: 70 <class 'int'>\n",
    "```"
   ]
  },
  {
   "cell_type": "code",
   "execution_count": null,
   "id": "66af93d3",
   "metadata": {},
   "outputs": [],
   "source": []
  }
 ],
 "metadata": {
  "kernelspec": {
   "display_name": "pycourse",
   "language": "python",
   "name": "python3"
  },
  "language_info": {
   "codemirror_mode": {
    "name": "ipython",
    "version": 3
   },
   "file_extension": ".py",
   "mimetype": "text/x-python",
   "name": "python",
   "nbconvert_exporter": "python",
   "pygments_lexer": "ipython3",
   "version": "3.10.18"
  }
 },
 "nbformat": 4,
 "nbformat_minor": 5
}
