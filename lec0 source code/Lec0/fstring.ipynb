{
 "cells": [
  {
   "cell_type": "markdown",
   "id": "89cdf504",
   "metadata": {},
   "source": [
    "# f-Strings in Python\n",
    "## 1.What is an f-string?\n",
    "- An f-string is a way to insert variables or expressions directly  inside a string.\n",
    "- Syntax:\n",
    "```python\n",
    "f\"some text {variable_or_expression}\"\n",
    "```"
   ]
  },
  {
   "cell_type": "code",
   "execution_count": 1,
   "id": "8285cc65",
   "metadata": {},
   "outputs": [
    {
     "name": "stdout",
     "output_type": "stream",
     "text": [
      "My name is Alice and I am 20 years old.\n"
     ]
    }
   ],
   "source": [
    "name = \"Alice\"\n",
    "age = 20\n",
    "print(f\"My name is {name} and I am {age} years old.\")"
   ]
  },
  {
   "cell_type": "markdown",
   "id": "6279f230",
   "metadata": {},
   "source": [
    "## 2.Expressions inside f-strings\n",
    "- You can put any valid Python expression inside {}.\n"
   ]
  },
  {
   "cell_type": "code",
   "execution_count": 2,
   "id": "5ca6bb71",
   "metadata": {},
   "outputs": [
    {
     "name": "stdout",
     "output_type": "stream",
     "text": [
      "5 + 3 = 8\n"
     ]
    }
   ],
   "source": [
    "x = 5\n",
    "y = 3\n",
    "print(f\"{x} + {y} = {x + y}\")"
   ]
  },
  {
   "cell_type": "markdown",
   "id": "bf67e679",
   "metadata": {},
   "source": [
    "## 3.Using Functions"
   ]
  },
  {
   "cell_type": "code",
   "execution_count": 3,
   "id": "9b73f492",
   "metadata": {},
   "outputs": [
    {
     "name": "stdout",
     "output_type": "stream",
     "text": [
      "Hello, ALICE!\n"
     ]
    }
   ],
   "source": [
    "name = \"alice\"\n",
    "print(f\"Hello, {name.upper()}!\")"
   ]
  },
  {
   "cell_type": "markdown",
   "id": "3297cee1",
   "metadata": {},
   "source": [
    "## 4.Number Formatting"
   ]
  },
  {
   "cell_type": "code",
   "execution_count": 4,
   "id": "8b9e4bee",
   "metadata": {},
   "outputs": [
    {
     "name": "stdout",
     "output_type": "stream",
     "text": [
      "Pi rounded to 2 decimals: 3.14\n"
     ]
    }
   ],
   "source": [
    "pi = 3.14159265\n",
    "print(f\"Pi rounded to 2 decimals: {pi:.2f}\")"
   ]
  },
  {
   "cell_type": "markdown",
   "id": "712bc7a1",
   "metadata": {},
   "source": [
    "## 5.Multi-line f-strings\n"
   ]
  },
  {
   "cell_type": "code",
   "execution_count": 7,
   "id": "81a57533",
   "metadata": {},
   "outputs": [
    {
     "name": "stdout",
     "output_type": "stream",
     "text": [
      "\n",
      "Student: Alice\n",
      "Score: 95\n",
      "\n"
     ]
    }
   ],
   "source": [
    "name = \"Alice\"\n",
    "score = 95\n",
    "print(f\"\"\"\n",
    "Student: {name}\n",
    "Score: {score}\n",
    "\"\"\")"
   ]
  },
  {
   "cell_type": "markdown",
   "id": "58f01916",
   "metadata": {},
   "source": [
    "### Exercise\n",
    "1. Create variables name and age. Use an f-string to print:\n",
    "`\"Hello, my name is ___ and I am ___ years old.\"`\n",
    "\n",
    "2. Calculate 7 * 8 and print the result using an f-string.\n",
    "\n",
    "3. Take the string \"python\" and print it in uppercase using an f-string.\n",
    "\n",
    "4. Print π (pi = 3.14159) rounded to 2 decimal places using an f-string."
   ]
  },
  {
   "cell_type": "code",
   "execution_count": null,
   "id": "d151dd3c",
   "metadata": {},
   "outputs": [],
   "source": [
    "#1\n",
    "name = \"Alice\"\n",
    "age = 20\n",
    "'''\n",
    "TODO\n",
    "print()\n",
    "'''"
   ]
  },
  {
   "cell_type": "code",
   "execution_count": null,
   "id": "a8c9fbcb",
   "metadata": {},
   "outputs": [],
   "source": [
    "#2\n",
    "a = 7\n",
    "b = 8\n",
    "'''\n",
    "TODO\n",
    "print()\n",
    "'''"
   ]
  },
  {
   "cell_type": "code",
   "execution_count": 1,
   "id": "7dd67c3e",
   "metadata": {},
   "outputs": [
    {
     "data": {
      "text/plain": [
       "'\\nTODO\\nprint()\\n'"
      ]
     },
     "execution_count": 1,
     "metadata": {},
     "output_type": "execute_result"
    }
   ],
   "source": [
    "#3\n",
    "text = \"python\"\n",
    "'''\n",
    "TODO\n",
    "print()\n",
    "'''"
   ]
  },
  {
   "cell_type": "code",
   "execution_count": null,
   "id": "9dccdae1",
   "metadata": {},
   "outputs": [],
   "source": [
    "#4\n",
    "pi = 3.14159\n",
    "'''\n",
    "TODO\n",
    "print()\n",
    "'''"
   ]
  }
 ],
 "metadata": {
  "kernelspec": {
   "display_name": "pycourse",
   "language": "python",
   "name": "python3"
  },
  "language_info": {
   "codemirror_mode": {
    "name": "ipython",
    "version": 3
   },
   "file_extension": ".py",
   "mimetype": "text/x-python",
   "name": "python",
   "nbconvert_exporter": "python",
   "pygments_lexer": "ipython3",
   "version": "3.10.18"
  }
 },
 "nbformat": 4,
 "nbformat_minor": 5
}
