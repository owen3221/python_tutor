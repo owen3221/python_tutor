{
 "cells": [
  {
   "cell_type": "markdown",
   "id": "dfcabf14",
   "metadata": {},
   "source": [
    "# f-String Number Formatting\n",
    "\n",
    "- In an f-string, you can add a colon : inside {} followed by formatting rules to control how numbers are displayed."
   ]
  },
  {
   "cell_type": "markdown",
   "id": "7dd24702",
   "metadata": {},
   "source": [
    "### 1.Fixed Decimal Places"
   ]
  },
  {
   "cell_type": "code",
   "execution_count": 1,
   "id": "45cb1a55",
   "metadata": {},
   "outputs": [
    {
     "name": "stdout",
     "output_type": "stream",
     "text": [
      "3.14\n",
      "3.1416\n"
     ]
    }
   ],
   "source": [
    "pi = 3.14159265\n",
    "print(f\"{pi:.2f}\")   # 3.14   → 2 decimal places\n",
    "print(f\"{pi:.4f}\")   # 3.1416 → 4 decimal places"
   ]
  },
  {
   "cell_type": "markdown",
   "id": "923946c4",
   "metadata": {},
   "source": [
    "### 2.Zero-Padding / Fixed Width"
   ]
  },
  {
   "cell_type": "code",
   "execution_count": 1,
   "id": "22f5c21f",
   "metadata": {},
   "outputs": [
    {
     "name": "stdout",
     "output_type": "stream",
     "text": [
      "078\n",
      "00078\n"
     ]
    }
   ],
   "source": [
    "num = 78\n",
    "print(f\"{num:03}\")   # 007   → 3 digits with leading zeros\n",
    "print(f\"{num:05}\")   # 00007"
   ]
  },
  {
   "cell_type": "markdown",
   "id": "9b104ebc",
   "metadata": {},
   "source": [
    "### 3.Thousands Separator\n"
   ]
  },
  {
   "cell_type": "code",
   "execution_count": 4,
   "id": "2badbcbe",
   "metadata": {},
   "outputs": [
    {
     "name": "stdout",
     "output_type": "stream",
     "text": [
      "1,234,567\n"
     ]
    }
   ],
   "source": [
    "big = 1234567\n",
    "print(f\"{big:,}\")     # 1,234,567"
   ]
  },
  {
   "cell_type": "markdown",
   "id": "51e00549",
   "metadata": {},
   "source": [
    "### 4.Percentage Format"
   ]
  },
  {
   "cell_type": "code",
   "execution_count": 7,
   "id": "ce78fbed",
   "metadata": {},
   "outputs": [
    {
     "name": "stdout",
     "output_type": "stream",
     "text": [
      "87.50%\n"
     ]
    }
   ],
   "source": [
    "rate = 0.875\n",
    "print(f\"{rate:.2%}\")  "
   ]
  },
  {
   "cell_type": "markdown",
   "id": "fae826ad",
   "metadata": {},
   "source": [
    "### 5.Scientific Notation\n"
   ]
  },
  {
   "cell_type": "code",
   "execution_count": 8,
   "id": "0f56451e",
   "metadata": {},
   "outputs": [
    {
     "name": "stdout",
     "output_type": "stream",
     "text": [
      "1.23e+04\n"
     ]
    }
   ],
   "source": [
    "num = 12345.6789\n",
    "print(f\"{num:.2e}\")   # 1.23e+04"
   ]
  },
  {
   "cell_type": "markdown",
   "id": "5df7e6e7",
   "metadata": {},
   "source": [
    "### 6.Alignment & Field Width"
   ]
  },
  {
   "cell_type": "code",
   "execution_count": null,
   "id": "ca2d9730",
   "metadata": {},
   "outputs": [
    {
     "name": "stdout",
     "output_type": "stream",
     "text": [
      "42   \n",
      "    42\n",
      " 42  \n"
     ]
    }
   ],
   "source": [
    "n = 42\n",
    "print(f\"{n:<5}\")   # Left aligned:  '42   '\n",
    "print(f\"{n:>5}\")   # Right aligned: '   42'\n",
    "print(f\"{n:^5}\")   # Center aligned: ' 42  '"
   ]
  },
  {
   "cell_type": "markdown",
   "id": "8e8a52f8",
   "metadata": {},
   "source": [
    "### 7.Combining Multiple Rules"
   ]
  },
  {
   "cell_type": "code",
   "execution_count": 12,
   "id": "826623c3",
   "metadata": {},
   "outputs": [
    {
     "name": "stdout",
     "output_type": "stream",
     "text": [
      "      3.14\n",
      "     3.142\n"
     ]
    }
   ],
   "source": [
    "pi = 3.14159\n",
    "print(f\"{pi:10.2f}\")   # '      3.14' → width 10, 2 decimals\n",
    "print(f\"{pi:>10.3f}\")  # '     3.142'"
   ]
  },
  {
   "cell_type": "markdown",
   "id": "36f94923",
   "metadata": {},
   "source": [
    "### Exercise\n",
    "1. Format 123.456789 to 3 decimal places.\n",
    "2. Format 42 as a 5-digit number with leading zeros.\n",
    "3. Convert 0.756 to percentage format with 1 decimal place.\n",
    "4. Format 987654321 with a thousands separator.\n",
    "5. Format 3.14159 with width 8, right aligned, 2 decimals."
   ]
  },
  {
   "cell_type": "code",
   "execution_count": null,
   "id": "f8209c83",
   "metadata": {},
   "outputs": [],
   "source": [
    "#1\n",
    "num = 123.456789\n",
    "'''TODO\n",
    "\n",
    "print()\n",
    "'''"
   ]
  },
  {
   "cell_type": "code",
   "execution_count": null,
   "id": "0b87b881",
   "metadata": {},
   "outputs": [],
   "source": [
    "#2\n",
    "num = 42\n",
    "'''TODO\n",
    "\n",
    "print()\n",
    "'''"
   ]
  },
  {
   "cell_type": "code",
   "execution_count": null,
   "id": "fbd7afab",
   "metadata": {},
   "outputs": [],
   "source": [
    "#3\n",
    "num = 0.756\n",
    "'''TODO\n",
    "\n",
    "print()\n",
    "'''"
   ]
  },
  {
   "cell_type": "code",
   "execution_count": null,
   "id": "b70be77d",
   "metadata": {},
   "outputs": [],
   "source": [
    "#4\n",
    "num = 987654321\n",
    "'''TODO\n",
    "\n",
    "print()\n",
    "'''"
   ]
  },
  {
   "cell_type": "code",
   "execution_count": null,
   "id": "78208d32",
   "metadata": {},
   "outputs": [],
   "source": [
    "#5\n",
    "num = 3.14159\n",
    "'''TODO\n",
    "\n",
    "print()\n",
    "'''"
   ]
  }
 ],
 "metadata": {
  "kernelspec": {
   "display_name": "pycourse",
   "language": "python",
   "name": "python3"
  },
  "language_info": {
   "codemirror_mode": {
    "name": "ipython",
    "version": 3
   },
   "file_extension": ".py",
   "mimetype": "text/x-python",
   "name": "python",
   "nbconvert_exporter": "python",
   "pygments_lexer": "ipython3",
   "version": "3.10.18"
  }
 },
 "nbformat": 4,
 "nbformat_minor": 5
}
