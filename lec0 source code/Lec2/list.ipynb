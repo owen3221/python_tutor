{
 "cells": [
  {
   "cell_type": "markdown",
   "id": "0a82691f",
   "metadata": {},
   "source": [
    "\n",
    "## 1) list basics: creation, indexing, slicing, nesting\n",
    "- A `list` can contain different data types.\n",
    "- Indexing starts at **0**; negative indices count from the end (`-1` is the last element).\n",
    "- **Slicing** excludes the right bound: `a[start:stop)`.\n",
    "- Nested lists are accessed with two indices.\n"
   ]
  },
  {
   "cell_type": "code",
   "execution_count": 3,
   "id": "65e30098",
   "metadata": {},
   "outputs": [
    {
     "name": "stdout",
     "output_type": "stream",
     "text": [
      "10 50\n",
      "['python', 3.14]\n"
     ]
    }
   ],
   "source": [
    "# Creation and indexing\n",
    "nums = [10, 20, 30, 40, 50]\n",
    "words = [\"hi\", \"python\", 3.14, True]\n",
    "\n",
    "print(nums[0], nums[-1])     # 10 50\n",
    "print(words[1:3])            # ['python', 3.14]"
   ]
  },
  {
   "cell_type": "code",
   "execution_count": 2,
   "id": "0490f701",
   "metadata": {},
   "outputs": [
    {
     "name": "stdout",
     "output_type": "stream",
     "text": [
      "6\n",
      "[10, 30, 50]\n",
      "[50, 40, 30, 20, 10]\n"
     ]
    }
   ],
   "source": [
    "# Nested list\n",
    "nums = [10, 20, 30, 40, 50]\n",
    "words = [\"hi\", \"python\", 3.14, True]\n",
    "grid = [\n",
    "    [1, 2, 3],\n",
    "    [4, 5, 6]\n",
    "]\n",
    "print(grid[1][2])            # 6\n",
    "\n",
    "# Advanced slicing: step\n",
    "print(nums[::2])             # [10, 30, 50]\n",
    "print(nums[::-1])            # reversed: [50, 40, 30, 20, 10]"
   ]
  },
  {
   "cell_type": "markdown",
   "id": "e77fd34f",
   "metadata": {},
   "source": [
    "## 2) Common list methods\n",
    "- `append(x)`, `extend(iterable)`, `insert(i, x)`\n",
    "- `remove(x)`, `pop(i=-1)`, `clear()`\n",
    "- `index(x)`, `count(x)`\n",
    "- `sort(reverse=False)`, `reverse()`"
   ]
  },
  {
   "cell_type": "code",
   "execution_count": 6,
   "id": "e0360e90",
   "metadata": {},
   "outputs": [
    {
     "name": "stdout",
     "output_type": "stream",
     "text": [
      "2\n",
      "2\n"
     ]
    }
   ],
   "source": [
    "data = [3, 1, 4]\n",
    "data.append(1)             # [3, 1, 4, 1]\n",
    "data.extend([5, 9])        # [3, 1, 4, 1, 5, 9]\n",
    "data.insert(1, 7)          # [3, 7, 1, 4, 1, 5, 9]\n",
    "\n",
    "print(data.index(1))       # index of first 1\n",
    "print(data.count(1))       # count of 1s"
   ]
  },
  {
   "cell_type": "code",
   "execution_count": 7,
   "id": "ba2e4392",
   "metadata": {},
   "outputs": [
    {
     "name": "stdout",
     "output_type": "stream",
     "text": [
      "4 [3, 1]\n"
     ]
    }
   ],
   "source": [
    "data = [3, 1, 4]\n",
    "last = data.pop()          # pop last\n",
    "print(last, data)"
   ]
  },
  {
   "cell_type": "code",
   "execution_count": null,
   "id": "6354cae2",
   "metadata": {},
   "outputs": [],
   "source": [
    "data = [3, 1, 4]\n",
    "data.remove(7)             # remove first 7\n",
    "data.sort()                # sort ascending\n",
    "print(data)"
   ]
  },
  {
   "cell_type": "code",
   "execution_count": null,
   "id": "4615277f",
   "metadata": {},
   "outputs": [],
   "source": [
    "data = [3, 1, 4]\n",
    "data.reverse()             # reverse list\n",
    "print(data)"
   ]
  },
  {
   "cell_type": "code",
   "execution_count": 40,
   "id": "5f5f315d",
   "metadata": {},
   "outputs": [
    {
     "name": "stdout",
     "output_type": "stream",
     "text": [
      "3\n"
     ]
    }
   ],
   "source": [
    "data = [1, 2, 3]\n",
    "print(len(data))"
   ]
  },
  {
   "cell_type": "markdown",
   "id": "1dbc1bc5",
   "metadata": {},
   "source": [
    "## 3) while loop: condition-driven\n",
    "- Executes as long as condition is True.\n",
    "- **break** exits early, **continue** skips to next iteration.\n",
    "- `while ... else`: `else` runs only if loop exits normally (no break)."
   ]
  },
  {
   "cell_type": "code",
   "execution_count": 8,
   "id": "4744a83e",
   "metadata": {},
   "outputs": [
    {
     "name": "stdout",
     "output_type": "stream",
     "text": [
      "0 apple\n",
      "1 banana\n",
      "2 cherry\n",
      "while finished without break\n"
     ]
    }
   ],
   "source": [
    "# while with index\n",
    "fruits = [\"apple\", \"banana\", \"cherry\"]\n",
    "i = 0\n",
    "while i < len(fruits):\n",
    "    print(i, fruits[i])\n",
    "    i += 1\n",
    "else:\n",
    "    print(\"while finished without break\")"
   ]
  },
  {
   "cell_type": "code",
   "execution_count": 9,
   "id": "3ffd531f",
   "metadata": {},
   "outputs": [
    {
     "name": "stdout",
     "output_type": "stream",
     "text": [
      "found: 7\n"
     ]
    }
   ],
   "source": [
    "# break / continue\n",
    "n = 1\n",
    "while True:\n",
    "    if n % 7 == 0:\n",
    "        print(\"found:\", n)\n",
    "        break\n",
    "    n += 1\n"
   ]
  },
  {
   "cell_type": "code",
   "execution_count": 10,
   "id": "b85d257d",
   "metadata": {},
   "outputs": [
    {
     "name": "stdout",
     "output_type": "stream",
     "text": [
      "odd: 1\n",
      "odd: 3\n",
      "odd: 5\n",
      "odd: 7\n",
      "odd: 9\n",
      "odd: 11\n"
     ]
    }
   ],
   "source": [
    "x = 0\n",
    "while x <= 10:\n",
    "    x += 1\n",
    "    if x % 2 == 0:\n",
    "        continue\n",
    "    print(\"odd:\", x)"
   ]
  },
  {
   "cell_type": "markdown",
   "id": "9308a34d",
   "metadata": {},
   "source": [
    "## 4) for loop: iterate over iterables\n",
    "- `for item in iterable:`\n",
    "- `range(stop)`, `range(start, stop)`, `range(start, stop, step)`\n",
    "- `enumerate(iterable, start=0)` gives both index and value\n",
    "- Remember: `range(stop)` goes up to `stop-1`"
   ]
  },
  {
   "cell_type": "code",
   "execution_count": 24,
   "id": "35fed1cc",
   "metadata": {},
   "outputs": [
    {
     "name": "stdout",
     "output_type": "stream",
     "text": [
      "n = 0\n",
      "n = 1\n",
      "n = 2\n"
     ]
    }
   ],
   "source": [
    "for n in range(3):              # 0,1,2\n",
    "    print(\"n =\", n)"
   ]
  },
  {
   "cell_type": "code",
   "execution_count": 25,
   "id": "6c13e6f1",
   "metadata": {},
   "outputs": [
    {
     "name": "stdout",
     "output_type": "stream",
     "text": [
      "n2 = 2\n",
      "n2 = 3\n",
      "n2 = 4\n",
      "n2 = 5\n",
      "n2 = 6\n"
     ]
    }
   ],
   "source": [
    "for n in range(2, 7):           # 2..6\n",
    "    print(\"n2 =\", n)\n"
   ]
  },
  {
   "cell_type": "code",
   "execution_count": 26,
   "id": "4e9f23fc",
   "metadata": {},
   "outputs": [
    {
     "name": "stdout",
     "output_type": "stream",
     "text": [
      "down: 10\n",
      "down: 7\n",
      "down: 4\n",
      "down: 1\n"
     ]
    }
   ],
   "source": [
    "\n",
    "for n in range(10, 0, -3):      # 10,7,4,1\n",
    "    print(\"down:\", n)"
   ]
  },
  {
   "cell_type": "code",
   "execution_count": 23,
   "id": "43a8561a",
   "metadata": {},
   "outputs": [
    {
     "name": "stdout",
     "output_type": "stream",
     "text": [
      "I like apple\n",
      "I like banana\n",
      "I like cherry\n"
     ]
    }
   ],
   "source": [
    "fruits = [\"apple\", \"banana\", \"cherry\"]\n",
    "\n",
    "# iterate values\n",
    "for f in fruits:\n",
    "    print(\"I like\", f)"
   ]
  },
  {
   "cell_type": "code",
   "execution_count": 27,
   "id": "fb17eb87",
   "metadata": {},
   "outputs": [
    {
     "name": "stdout",
     "output_type": "stream",
     "text": [
      "0 apple\n",
      "1 banana\n",
      "2 cherry\n"
     ]
    }
   ],
   "source": [
    "# iterate indices\n",
    "for i in range(len(fruits)):\n",
    "    print(i, fruits[i])"
   ]
  },
  {
   "cell_type": "markdown",
   "id": "d96347db",
   "metadata": {},
   "source": [
    "## 5) Combining list + loops\n",
    "- **Summation**: accumulator pattern\n",
    "- **Search**: stop when found\n",
    "- **Filter**: build new list with condition\n"
   ]
  },
  {
   "cell_type": "code",
   "execution_count": 28,
   "id": "f7ca6e5e",
   "metadata": {},
   "outputs": [
    {
     "name": "stdout",
     "output_type": "stream",
     "text": [
      "sum = 32\n"
     ]
    }
   ],
   "source": [
    "nums = [3, 7, 2, 9, 7, 4]\n",
    "\n",
    "# sum\n",
    "total = 0\n",
    "for x in nums:\n",
    "    total += x\n",
    "print(\"sum =\", total)"
   ]
  },
  {
   "cell_type": "code",
   "execution_count": 29,
   "id": "e465f06c",
   "metadata": {},
   "outputs": [
    {
     "name": "stdout",
     "output_type": "stream",
     "text": [
      "first > 8: 9\n"
     ]
    }
   ],
   "source": [
    "# search with while\n",
    "i = 0\n",
    "found = None\n",
    "while i < len(nums):\n",
    "    if nums[i] > 8:\n",
    "        found = nums[i]\n",
    "        break\n",
    "    i += 1\n",
    "print(\"first > 8:\", found)"
   ]
  },
  {
   "cell_type": "code",
   "execution_count": 30,
   "id": "eb9b04d5",
   "metadata": {},
   "outputs": [
    {
     "name": "stdout",
     "output_type": "stream",
     "text": [
      "evens: [2, 4]\n"
     ]
    }
   ],
   "source": [
    "# filter evens\n",
    "evens = []\n",
    "for x in nums:\n",
    "    if x % 2 == 0:\n",
    "        evens.append(x)\n",
    "print(\"evens:\", evens)\n"
   ]
  },
  {
   "cell_type": "code",
   "execution_count": 31,
   "id": "346a799f",
   "metadata": {},
   "outputs": [
    {
     "name": "stdout",
     "output_type": "stream",
     "text": [
      "squares: [9, 49, 4, 81, 49, 16]\n"
     ]
    }
   ],
   "source": [
    "# squares\n",
    "squares = []\n",
    "for x in nums:\n",
    "    squares.append(x * x)\n",
    "print(\"squares:\", squares)"
   ]
  },
  {
   "cell_type": "markdown",
   "id": "ab78d0f9",
   "metadata": {},
   "source": [
    "## 7) Pitfalls & best practices\n",
    "- **Don’t remove while iterating**: may skip items.\n",
    "- **Off-by-one errors**: `range` excludes stop.\n",
    "- **while without update**: infinite loop risk."
   ]
  },
  {
   "cell_type": "code",
   "execution_count": 32,
   "id": "c9f59c3f",
   "metadata": {},
   "outputs": [
    {
     "name": "stdout",
     "output_type": "stream",
     "text": [
      "problem: [1, 3, 5]\n"
     ]
    }
   ],
   "source": [
    "# wrong: remove while iterating\n",
    "a = [1, 2, 3, 4, 5]\n",
    "for x in a:\n",
    "    if x % 2 == 0:\n",
    "        a.remove(x)\n",
    "print(\"problem:\", a)"
   ]
  },
  {
   "cell_type": "code",
   "execution_count": 33,
   "id": "f574f8e2",
   "metadata": {},
   "outputs": [
    {
     "name": "stdout",
     "output_type": "stream",
     "text": [
      "safe: [1, 3, 5]\n"
     ]
    }
   ],
   "source": [
    "# safe 1: copy\n",
    "a = [1, 2, 3, 4, 5]\n",
    "for x in a[:]:\n",
    "    if x % 2 == 0:\n",
    "        a.remove(x)\n",
    "print(\"safe:\", a)"
   ]
  },
  {
   "cell_type": "markdown",
   "id": "456502fa",
   "metadata": {},
   "source": [
    "## Practice challenges\n",
    "1. **Index & slice**\n",
    "   - Create `a = [10,20,30,40,50,60]`\n",
    "   - Print first 3, last 3, odd indices (1,3,5)\n",
    "2. **Sum & average**\n",
    "   - `scores = [70, 88, 92, 60, 81]`\n",
    "   - Use `for` to calculate total & average\n",
    "3. **Search & count**\n",
    "   - `nums = [3,7,2,7,9,7,4]`\n",
    "   - Find first index of 7; count how many 7s\n",
    "4. **Filter**\n",
    "   - Build list with values ≥ 5 from nums\n",
    "5. **Star triangle**\n",
    "   - Print triangle of height `h` using both `for` and `while`\n",
    "6. **2D list**\n",
    "   - For `mat = [[2,1],[0,3],[5,4]]`, print diagonal values"
   ]
  },
  {
   "cell_type": "code",
   "execution_count": 35,
   "id": "60ae4ceb",
   "metadata": {},
   "outputs": [],
   "source": [
    "# Practice skeleton (students fill TODOs)\n",
    "\n",
    "# 1) Index & slice\n",
    "a = [10, 20, 30, 40, 50, 60]\n",
    "# TODO\n",
    "\n",
    "# 2) Sum & average\n",
    "scores = [70, 88, 92, 60, 81]\n",
    "# TODO\n",
    "\n",
    "# 3) Search & count\n",
    "nums = [3, 7, 2, 7, 9, 7, 4]\n",
    "# TODO\n",
    "\n",
    "# 4) Filter (>=5)\n",
    "# TODO\n",
    "\n",
    "# 5) Star triangle\n",
    "h = 5\n",
    "# TODO\n",
    "\n",
    "# 6) 2D diagonal\n",
    "mat = [[2,1],[0,3],[5,4]]\n",
    "# TODO"
   ]
  },
  {
   "cell_type": "markdown",
   "id": "4c38cf59",
   "metadata": {},
   "source": [
    "##  Summary\n",
    "- `list`: indexing, slicing, mutability, methods\n",
    "- `while`: condition-driven, unknown repetition\n",
    "- `for`: iterate collections, known repetition\n",
    "- Loop patterns: **sum**, **search**, **filter**\n",
    "- Common mistakes: off-by-one, unsafe modification, infinite loops"
   ]
  }
 ],
 "metadata": {
  "kernelspec": {
   "display_name": "pycourse",
   "language": "python",
   "name": "python3"
  },
  "language_info": {
   "codemirror_mode": {
    "name": "ipython",
    "version": 3
   },
   "file_extension": ".py",
   "mimetype": "text/x-python",
   "name": "python",
   "nbconvert_exporter": "python",
   "pygments_lexer": "ipython3",
   "version": "3.10.18"
  }
 },
 "nbformat": 4,
 "nbformat_minor": 5
}
