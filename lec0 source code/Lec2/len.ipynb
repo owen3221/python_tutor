{
 "cells": [
  {
   "cell_type": "markdown",
   "id": "017c5b29",
   "metadata": {},
   "source": [
    "\n",
    "## 1) len(): length of a container\n",
    "- `len()` returns the number of elements in a container.  \n",
    "- Works on lists, strings, dictionaries, tuples, etc.  \n",
    "- Very useful in loops to avoid \"off-by-one\" mistakes."
   ]
  },
  {
   "cell_type": "code",
   "execution_count": 1,
   "id": "15999082",
   "metadata": {},
   "outputs": [
    {
     "name": "stdout",
     "output_type": "stream",
     "text": [
      "3\n",
      "5\n",
      "2\n"
     ]
    }
   ],
   "source": [
    "# list\n",
    "fruits = [\"apple\", \"banana\", \"cherry\"]\n",
    "print(len(fruits))   # 3\n",
    "\n",
    "# string\n",
    "s = \"hello\"\n",
    "print(len(s))        # 5\n",
    "\n",
    "# dictionary (counts keys)\n",
    "person = {\"name\": \"Alice\", \"age\": 25}\n",
    "print(len(person))   # 2"
   ]
  },
  {
   "cell_type": "markdown",
   "id": "0e7c37ed",
   "metadata": {},
   "source": [
    "## 2) len() inside loops\n",
    "Often used with `range(len(...))` to iterate by index."
   ]
  },
  {
   "cell_type": "code",
   "execution_count": null,
   "id": "3d1c300f",
   "metadata": {},
   "outputs": [],
   "source": [
    "nums = [10, 20, 30, 40]\n",
    "\n",
    "for i in range(len(nums)):\n",
    "    print(\"index:\", i, \"value:\", nums[i])"
   ]
  },
  {
   "cell_type": "markdown",
   "id": "790ccea3",
   "metadata": {},
   "source": [
    "## 3) print with * multiplication\n",
    "In Python, `*` can \"repeat\" sequences:\n",
    "- String × int → repeated string  \n",
    "- List × int → repeated list  \n",
    "- Useful for text graphics or initializing lists"
   ]
  },
  {
   "cell_type": "code",
   "execution_count": null,
   "id": "03232c19",
   "metadata": {},
   "outputs": [],
   "source": [
    "# string * int\n",
    "print(\"hi\" * 3)   # hihihi\n",
    "print(\"-\" * 10)   # ----------\n",
    "\n",
    "# list * int\n",
    "zeros = [0] * 5\n",
    "print(zeros)      # [0, 0, 0, 0, 0]"
   ]
  },
  {
   "cell_type": "markdown",
   "id": "3f97c6de",
   "metadata": {},
   "source": [
    "## 4) Loops + print(a*3): pattern printing\n",
    "You can combine loops with `\"*\"` * n to print shapes."
   ]
  },
  {
   "cell_type": "code",
   "execution_count": null,
   "id": "cdafebc9",
   "metadata": {},
   "outputs": [],
   "source": [
    "# right triangle\n",
    "rows = 5\n",
    "for i in range(1, rows + 1):\n",
    "    print(\"*\" * i)"
   ]
  },
  {
   "cell_type": "code",
   "execution_count": null,
   "id": "3f274184",
   "metadata": {},
   "outputs": [],
   "source": [
    "# rectangle\n",
    "rows, cols = 3, 6\n",
    "for _ in range(rows):\n",
    "    print(\"#\" * cols)"
   ]
  },
  {
   "cell_type": "code",
   "execution_count": null,
   "id": "b4759f36",
   "metadata": {},
   "outputs": [],
   "source": [
    "# pyramid\n",
    "rows = 4\n",
    "for i in range(1, rows + 1):\n",
    "    spaces = \" \" * (rows - i)\n",
    "    stars = \"*\" * (2 * i - 1)\n",
    "    print(spaces + stars)"
   ]
  },
  {
   "cell_type": "markdown",
   "id": "22c6adec",
   "metadata": {},
   "source": [
    "## Exercises\n",
    "\n",
    "1) **Vowel count with `len()`**  \n",
    "   Count how many vowels are in `\"programming\"`. Use a loop to collect vowels, then use `len()` on that collection.\n",
    "\n",
    "2) **Index & value with `len()` + `range()`**  \n",
    "   For the list `[2, 4, 6, 8, 10]`, print each **index** and **value** using `for i in range(len(...))`.\n",
    "\n",
    "3) **Separator line with string × int**  \n",
    "   Define a helper `print_separator(n=20, char='-')` that prints a line like `--------------------`.\n",
    "\n",
    "4) **Centered pyramid with `print(a * 3)`**  \n",
    "   For `rows = 4`, print:\n"
   ]
  },
  {
   "cell_type": "code",
   "execution_count": null,
   "id": "7645be83",
   "metadata": {},
   "outputs": [],
   "source": []
  },
  {
   "cell_type": "code",
   "execution_count": null,
   "id": "41628d10",
   "metadata": {},
   "outputs": [],
   "source": [
    "# ========== 1) Vowel count with len() ==========\n",
    "s = \"programming\"\n",
    "vowels = set(\"aeiou\")   # you can include uppercase if needed\n",
    "vowel_hits = []         # TODO: collect vowel characters here\n",
    "\n",
    "# TODO: loop over s, if ch is a vowel, append to vowel_hits\n",
    "for ch in s:\n",
    "    # TODO\n",
    "    pass\n",
    "\n",
    "print(\"vowel count =\", len(vowel_hits))  # must use len()\n",
    "\n",
    "\n",
    "# ========== 2) Index & value with len() + range() ==========\n",
    "arr = [2, 4, 6, 8, 10]\n",
    "\n",
    "# TODO: iterate by index and print index + value\n",
    "for i in range(len(arr)):\n",
    "    # TODO: print(i, arr[i]) with any format you like\n",
    "    pass\n",
    "\n",
    "\n",
    "# ========== 3) Separator line with string × int ==========\n",
    "def print_separator(n: int = 20, char: str = \"-\"):\n",
    "    \"\"\"Print a separator line made of `char`, repeated `n` times.\"\"\"\n",
    "    # TODO: use print(char * n)\n",
    "    pass\n",
    "\n",
    "# Example call (you can change n or char to test):\n",
    "print_separator()\n",
    "print_separator(10, \"=\")\n",
    "\n",
    "\n",
    "# ========== 4) Centered pyramid with print(a * 3) ==========\n",
    "rows = 4\n",
    "\n",
    "# TODO: for i in 1..rows, compute spaces and stars then print\n",
    "# spaces = \" \" * (rows - i)\n",
    "# stars  = \"*\" * (2*i - 1)\n",
    "# print(spaces + stars)\n",
    "for i in range(1, rows + 1):\n",
    "    # TODO\n",
    "    pass"
   ]
  }
 ],
 "metadata": {
  "kernelspec": {
   "display_name": "pycourse",
   "language": "python",
   "name": "python3"
  },
  "language_info": {
   "codemirror_mode": {
    "name": "ipython",
    "version": 3
   },
   "file_extension": ".py",
   "mimetype": "text/x-python",
   "name": "python",
   "nbconvert_exporter": "python",
   "pygments_lexer": "ipython3",
   "version": "3.10.18"
  }
 },
 "nbformat": 4,
 "nbformat_minor": 5
}
