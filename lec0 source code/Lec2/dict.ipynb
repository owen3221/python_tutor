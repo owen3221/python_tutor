{
 "cells": [
  {
   "cell_type": "markdown",
   "id": "8764ea95",
   "metadata": {},
   "source": [
    "## 1) dict basics: key–value pairs\n",
    "- A `dict` stores data in pairs: **key : value**.  \n",
    "- Keys must be unique and immutable (e.g. strings, numbers, tuples).  \n",
    "- Values can be any type (numbers, strings, lists, other dicts).  \n",
    "- Access values by key, not by index."
   ]
  },
  {
   "cell_type": "code",
   "execution_count": 1,
   "id": "fa328c9e",
   "metadata": {},
   "outputs": [
    {
     "name": "stdout",
     "output_type": "stream",
     "text": [
      "Alice\n",
      "25\n",
      "cycling\n"
     ]
    }
   ],
   "source": [
    "# Create a dictionary\n",
    "person = {\n",
    "    \"name\": \"Alice\",\n",
    "    \"age\": 25,\n",
    "    \"hobbies\": [\"reading\", \"cycling\"]\n",
    "}\n",
    "\n",
    "# Access values\n",
    "print(person[\"name\"])   # Alice\n",
    "print(person[\"age\"])    # 25\n",
    "print(person[\"hobbies\"][1])"
   ]
  },
  {
   "cell_type": "code",
   "execution_count": 1,
   "id": "123b7749",
   "metadata": {},
   "outputs": [
    {
     "name": "stdout",
     "output_type": "stream",
     "text": [
      "{'name': 'Alice', 'age': 26, 'city': 'New York'}\n"
     ]
    }
   ],
   "source": [
    "person = {\n",
    "    \"name\": \"Alice\",\n",
    "    \"age\": 25,\n",
    "    \"hobbies\": [\"reading\", \"cycling\"]\n",
    "}\n",
    "# Add or update\n",
    "person[\"city\"] = \"New York\"\n",
    "person[\"age\"] = 26\n",
    "\n",
    "# Delete\n",
    "del person[\"hobbies\"]\n",
    "\n",
    "print(person)"
   ]
  },
  {
   "cell_type": "markdown",
   "id": "f217256b",
   "metadata": {},
   "source": [
    "## 2) Common dict methods\n",
    "- `keys()` → all keys  \n",
    "- `values()` → all values  \n",
    "- `items()` → (key, value) pairs  \n",
    "- `get(key, default)` → safe access  \n",
    "- `pop(key)` → remove a key and return its value  \n",
    "- `update({...})` → merge new pairs"
   ]
  },
  {
   "cell_type": "code",
   "execution_count": 3,
   "id": "4ac1d60b",
   "metadata": {},
   "outputs": [
    {
     "name": "stdout",
     "output_type": "stream",
     "text": [
      "dict_keys(['id', 'name', 'score'])\n",
      "dict_values([1, 'Bob', 90])\n",
      "dict_items([('id', 1), ('name', 'Bob'), ('score', 90)])\n",
      "N/A\n",
      "{'id': 1, 'name': 'Bob', 'age': 20, 'grade': 'A'}\n"
     ]
    }
   ],
   "source": [
    "student = {\"id\": 1, \"name\": \"Bob\", \"score\": 90}\n",
    "\n",
    "print(student.keys())     # dict_keys(['id','name','score'])\n",
    "print(student.values())   # dict_values([1,'Bob',90])\n",
    "print(student.items())    # dict_items([('id',1),('name','Bob'),('score',90)])\n",
    "\n",
    "print(student.get(\"age\", \"N/A\"))  # safe: returns \"N/A\" if not found\n",
    "\n",
    "student.pop(\"score\")      # remove key 'score'\n",
    "student.update({\"age\": 20, \"grade\": \"A\"})\n",
    "print(student)"
   ]
  },
  {
   "cell_type": "markdown",
   "id": "9e42be2c",
   "metadata": {},
   "source": [
    "## 3) Looping through dict\n",
    "You can iterate in several ways:\n",
    "- `for key in dict` → iterate keys  \n",
    "- `for value in dict.values()` → iterate values  \n",
    "- `for key, value in dict.items()` → iterate both  \n",
    "- Combine with `while` by converting to list of keys or items."
   ]
  },
  {
   "cell_type": "code",
   "execution_count": 3,
   "id": "8c678188",
   "metadata": {},
   "outputs": [
    {
     "name": "stdout",
     "output_type": "stream",
     "text": [
      "Alice scored 85\n",
      "Bob scored 92\n",
      "Charlie scored 78\n"
     ]
    }
   ],
   "source": [
    "grades = {\"Alice\": 85, \"Bob\": 92, \"Charlie\": 78}\n",
    "\n",
    "# Iterate keys\n",
    "for name in grades:\n",
    "    print(name, \"scored\", grades[name])"
   ]
  },
  {
   "cell_type": "code",
   "execution_count": 4,
   "id": "f0b4a4aa",
   "metadata": {},
   "outputs": [
    {
     "name": "stdout",
     "output_type": "stream",
     "text": [
      "Score: 85\n",
      "Score: 92\n",
      "Score: 78\n"
     ]
    }
   ],
   "source": [
    "grades = {\"Alice\": 85, \"Bob\": 92, \"Charlie\": 78}\n",
    "# Iterate values\n",
    "for score in grades.values():\n",
    "    print(\"Score:\", score)"
   ]
  },
  {
   "cell_type": "code",
   "execution_count": 5,
   "id": "814d8f66",
   "metadata": {},
   "outputs": [
    {
     "name": "stdout",
     "output_type": "stream",
     "text": [
      "Alice has 85 points\n",
      "Bob has 92 points\n",
      "Charlie has 78 points\n"
     ]
    }
   ],
   "source": [
    "grades = {\"Alice\": 85, \"Bob\": 92, \"Charlie\": 78}\n",
    "# Iterate items (key and value together)\n",
    "for name, score in grades.items():\n",
    "    print(f\"{name} has {score} points\")\n"
   ]
  },
  {
   "cell_type": "code",
   "execution_count": 6,
   "id": "5f03f090",
   "metadata": {},
   "outputs": [
    {
     "name": "stdout",
     "output_type": "stream",
     "text": [
      "Alice -> 85\n",
      "Bob -> 92\n",
      "Charlie -> 78\n"
     ]
    }
   ],
   "source": [
    "grades = {\"Alice\": 85, \"Bob\": 92, \"Charlie\": 78}\n",
    "# Using while with dict (less common)\n",
    "keys = list(grades.keys())\n",
    "i = 0\n",
    "while i < len(keys):\n",
    "    k = keys[i]\n",
    "    print(k, \"->\", grades[k])\n",
    "    i += 1"
   ]
  },
  {
   "cell_type": "markdown",
   "id": "c53552de",
   "metadata": {},
   "source": [
    "## 4) Practical applications of dict + loops\n",
    "- **Summation / average**  \n",
    "- **Search** by condition  \n",
    "- **Filter / build new dict**  \n",
    "- **Counting frequency** (classic!)"
   ]
  },
  {
   "cell_type": "code",
   "execution_count": 8,
   "id": "cad394cd",
   "metadata": {},
   "outputs": [
    {
     "name": "stdout",
     "output_type": "stream",
     "text": [
      "Average = 85.0\n"
     ]
    }
   ],
   "source": [
    "# Summation\n",
    "grades = {\"Alice\": 85, \"Bob\": 92, \"Charlie\": 78}\n",
    "total = 0\n",
    "for score in grades.values():\n",
    "    total += score\n",
    "print(\"Average =\", total / len(grades))"
   ]
  },
  {
   "cell_type": "code",
   "execution_count": 7,
   "id": "fb42cd90",
   "metadata": {},
   "outputs": [
    {
     "name": "stdout",
     "output_type": "stream",
     "text": [
      "First >=90: Bob\n"
     ]
    }
   ],
   "source": [
    "# Search\n",
    "target = None\n",
    "for name, score in grades.items():\n",
    "    if score >= 90:\n",
    "        target = name\n",
    "        break\n",
    "print(\"First >=90:\", target)"
   ]
  },
  {
   "cell_type": "code",
   "execution_count": 10,
   "id": "e0d61984",
   "metadata": {},
   "outputs": [
    {
     "name": "stdout",
     "output_type": "stream",
     "text": [
      "Passed: {'Alice': 85, 'Bob': 92}\n"
     ]
    }
   ],
   "source": [
    "# Filter: only keep scores >=80\n",
    "passed = {}\n",
    "for name, score in grades.items():\n",
    "    if score >= 80:\n",
    "        passed[name] = score\n",
    "print(\"Passed:\", passed)"
   ]
  },
  {
   "cell_type": "code",
   "execution_count": 9,
   "id": "a5077bbb",
   "metadata": {},
   "outputs": [
    {
     "name": "stdout",
     "output_type": "stream",
     "text": [
      "{'b': 1, 'a': 3, 'n': 2}\n"
     ]
    }
   ],
   "source": [
    "# Counting frequency in a string\n",
    "text = \"banana\"\n",
    "freq = {}\n",
    "for ch in text:\n",
    "    freq[ch] = freq.get(ch, 0) + 1\n",
    "print(freq)   # {'b':1,'a':3,'n':2}"
   ]
  },
  {
   "cell_type": "markdown",
   "id": "885930ab",
   "metadata": {},
   "source": [
    "## 5) Nested dicts\n",
    "- Values can be dicts themselves → like JSON objects.  \n",
    "- Useful in representing structured data (e.g. database rows)."
   ]
  },
  {
   "cell_type": "code",
   "execution_count": null,
   "id": "a080f847",
   "metadata": {},
   "outputs": [],
   "source": [
    "classroom = {\n",
    "    \"Alice\": {\"math\": 85, \"english\": 90},\n",
    "    \"Bob\": {\"math\": 78, \"english\": 88}\n",
    "}\n",
    "\n",
    "for student, subjects in classroom.items():\n",
    "    for subject, score in subjects.items():\n",
    "        print(student, subject, score)"
   ]
  },
  {
   "cell_type": "markdown",
   "id": "4f7d2810",
   "metadata": {},
   "source": [
    "## 6) Pitfalls & tips\n",
    "- Keys must be hashable (list cannot be key, tuple is okay).  \n",
    "- Iteration order in Python 3.7+ is insertion order.  \n",
    "- When updating while iterating, use a copy of keys/items.  \n",
    "- Use `.get()` to avoid KeyError.  "
   ]
  },
  {
   "cell_type": "code",
   "execution_count": 11,
   "id": "edc176a9",
   "metadata": {},
   "outputs": [
    {
     "ename": "RuntimeError",
     "evalue": "dictionary changed size during iteration",
     "output_type": "error",
     "traceback": [
      "\u001b[1;31m---------------------------------------------------------------------------\u001b[0m",
      "\u001b[1;31mRuntimeError\u001b[0m                              Traceback (most recent call last)",
      "Cell \u001b[1;32mIn[11], line 3\u001b[0m\n\u001b[0;32m      1\u001b[0m \u001b[38;5;66;03m# Unsafe: adding keys during iteration\u001b[39;00m\n\u001b[0;32m      2\u001b[0m d \u001b[38;5;241m=\u001b[39m {\u001b[38;5;124m\"\u001b[39m\u001b[38;5;124ma\u001b[39m\u001b[38;5;124m\"\u001b[39m: \u001b[38;5;241m1\u001b[39m}\n\u001b[1;32m----> 3\u001b[0m \u001b[38;5;28;01mfor\u001b[39;00m k \u001b[38;5;129;01min\u001b[39;00m d:\n\u001b[0;32m      4\u001b[0m     d[\u001b[38;5;124m\"\u001b[39m\u001b[38;5;124mb\u001b[39m\u001b[38;5;124m\"\u001b[39m] \u001b[38;5;241m=\u001b[39m \u001b[38;5;241m2\u001b[39m   \u001b[38;5;66;03m# RuntimeError in some cases\u001b[39;00m\n\u001b[0;32m      6\u001b[0m \u001b[38;5;66;03m# Safe way\u001b[39;00m\n",
      "\u001b[1;31mRuntimeError\u001b[0m: dictionary changed size during iteration"
     ]
    }
   ],
   "source": [
    "# Unsafe: adding keys during iteration\n",
    "d = {\"a\": 1}\n",
    "for k in d:\n",
    "    d[\"b\"] = 2   # RuntimeError in some cases\n",
    "\n",
    "# Safe way\n",
    "for k in list(d.keys()):\n",
    "    d[k+\"_new\"] = d[k] + 10\n",
    "print(d)"
   ]
  },
  {
   "cell_type": "markdown",
   "id": "cdbee30a",
   "metadata": {},
   "source": [
    "## 7) Practice challenges\n",
    "\n",
    "1. **Basic iteration**  \n",
    "   - Given `ages = {\"Tom\": 19, \"Lily\": 21, \"Sam\": 18}`  \n",
    "   - Print everyone's name and age.\n",
    "\n",
    "2. **Summation**  \n",
    "   - Compute total and average score from `scores = {\"A\":80, \"B\":75, \"C\":90}`\n",
    "\n",
    "3. **Filter**  \n",
    "   - From `scores`, build a new dict containing only values ≥85.\n",
    "\n",
    "4. **Frequency count**  \n",
    "   - Write code that counts character frequency in `\"hello world\"`.\n",
    "\n",
    "5. **Nested dict**  \n",
    "   - `students = {\"Amy\":{\"math\":80,\"eng\":85}, \"Ben\":{\"math\":70,\"eng\":90}}`  \n",
    "   - Print each student's subject scores line by line."
   ]
  },
  {
   "cell_type": "code",
   "execution_count": null,
   "id": "dd8f1f0e",
   "metadata": {},
   "outputs": [],
   "source": [
    "# Practice skeleton\n",
    "\n",
    "# 1) Basic iteration\n",
    "ages = {\"Tom\": 19, \"Lily\": 21, \"Sam\": 18}\n",
    "# TODO"
   ]
  },
  {
   "cell_type": "code",
   "execution_count": null,
   "id": "586f64bd",
   "metadata": {},
   "outputs": [],
   "source": [
    "# 2) Summation\n",
    "scores = {\"A\":80, \"B\":75, \"C\":90}\n",
    "# TODO"
   ]
  },
  {
   "cell_type": "code",
   "execution_count": null,
   "id": "18a6e58a",
   "metadata": {},
   "outputs": [],
   "source": [
    "# 3) Filter (>=85)\n",
    "# TODO"
   ]
  },
  {
   "cell_type": "code",
   "execution_count": null,
   "id": "9fec3f96",
   "metadata": {},
   "outputs": [],
   "source": [
    "# 4) Frequency count\n",
    "text = \"hello world\"\n",
    "# TODO"
   ]
  },
  {
   "cell_type": "code",
   "execution_count": null,
   "id": "93e93584",
   "metadata": {},
   "outputs": [],
   "source": [
    "# 5) Nested dict\n",
    "students = {\n",
    "    \"Amy\":{\"math\":80,\"eng\":85},\n",
    "    \"Ben\":{\"math\":70,\"eng\":90}\n",
    "}\n",
    "# TODO"
   ]
  },
  {
   "cell_type": "markdown",
   "id": "7ef91649",
   "metadata": {},
   "source": [
    "## 8) Summary\n",
    "- `dict`: key–value mapping, flexible and powerful.  \n",
    "- Looping: `keys()`, `values()`, `items()` depending on need.  \n",
    "- Common applications: summation, search, filter, frequency counting.  \n",
    "- Nested dicts are useful for structured data.  "
   ]
  },
  {
   "cell_type": "code",
   "execution_count": null,
   "id": "b4d99973",
   "metadata": {},
   "outputs": [],
   "source": [
    "a ="
   ]
  }
 ],
 "metadata": {
  "kernelspec": {
   "display_name": "pycourse",
   "language": "python",
   "name": "python3"
  },
  "language_info": {
   "codemirror_mode": {
    "name": "ipython",
    "version": 3
   },
   "file_extension": ".py",
   "mimetype": "text/x-python",
   "name": "python",
   "nbconvert_exporter": "python",
   "pygments_lexer": "ipython3",
   "version": "3.10.18"
  }
 },
 "nbformat": 4,
 "nbformat_minor": 5
}
