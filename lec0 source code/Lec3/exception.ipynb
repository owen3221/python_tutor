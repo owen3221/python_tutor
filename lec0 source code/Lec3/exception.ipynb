{
 "cells": [
  {
   "cell_type": "markdown",
   "id": "aa3e56be",
   "metadata": {},
   "source": [
    "## Exception"
   ]
  },
  {
   "cell_type": "markdown",
   "id": "de98e7f2",
   "metadata": {},
   "source": [
    "### `SyntaxError`\n",
    "\n",
    "- `SyntaxError` occurs **when Python fails to parse code** due to invalid syntax — before execution even begins.\n",
    "- Common causes:  \n",
    "  - Missing `:` after control statements (`if`, `for`, `def`, etc.)  \n",
    "  - Unmatched parentheses or quotes  \n",
    "  - Indentation issues (`IndentationError` is a subclass of `SyntaxError`)  \n",
    "  - Misspelled keywords or using reserved words as identifiers  "
   ]
  },
  {
   "cell_type": "code",
   "execution_count": null,
   "id": "c263a05c",
   "metadata": {},
   "outputs": [],
   "source": [
    "# SyntaxError: missing colon\n",
    "# if x > 0\n",
    "#     print(\"positive\")\n",
    "\n",
    "# ✅ Correct version\n",
    "x = 3\n",
    "if x > 0:\n",
    "    print(\"positive\")"
   ]
  }
 ],
 "metadata": {
  "kernelspec": {
   "display_name": "pycourse",
   "language": "python",
   "name": "python3"
  },
  "language_info": {
   "name": "python",
   "version": "3.10.18"
  }
 },
 "nbformat": 4,
 "nbformat_minor": 5
}
